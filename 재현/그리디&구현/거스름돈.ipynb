{
 "cells": [
  {
   "cell_type": "markdown",
   "id": "8cbba12b-b632-4b25-8b3b-ac945eec956f",
   "metadata": {},
   "source": [
    "### 개인코드(다시 제출해서 정답처리 받음)"
   ]
  },
  {
   "cell_type": "code",
   "execution_count": 2,
   "id": "fed58662-c560-49b4-81c1-0a7dbbff0a2b",
   "metadata": {},
   "outputs": [
    {
     "name": "stdin",
     "output_type": "stream",
     "text": [
      " 550\n"
     ]
    },
    {
     "name": "stdout",
     "output_type": "stream",
     "text": [
      "5\n"
     ]
    }
   ],
   "source": [
    "\n",
    "money = int(input())\n",
    "changes = 1000 - money\n",
    "\n",
    "count = 0\n",
    "\n",
    "while True:\n",
    "    if changes == 0: #while 조건문을 없애고 종료조건을 만들어 해결\n",
    "        break\n",
    "    if changes >= 500:\n",
    "        changes -= 500\n",
    "    elif changes >= 100:\n",
    "        changes -= 100\n",
    "    elif changes >= 50:\n",
    "        changes -= 50\n",
    "    elif changes >= 10:\n",
    "        changes -= 10\n",
    "    elif changes >= 5:\n",
    "        changes -= 5\n",
    "    elif changes >= 1:\n",
    "        changes -= 1\n",
    "#     print(changes)  \n",
    "    count += 1\n",
    "    \n",
    "print(count)"
   ]
  },
  {
   "cell_type": "markdown",
   "id": "fb619e2f-431c-401e-bed6-9732537bee67",
   "metadata": {},
   "source": [
    "### 다른풀이"
   ]
  },
  {
   "cell_type": "code",
   "execution_count": 3,
   "id": "31fd5775-9c6a-4d3c-af07-fdee328678dc",
   "metadata": {},
   "outputs": [
    {
     "name": "stdin",
     "output_type": "stream",
     "text": [
      " 550\n"
     ]
    },
    {
     "name": "stdout",
     "output_type": "stream",
     "text": [
      "5\n"
     ]
    }
   ],
   "source": [
    "changes = 1000 - int(input())\n",
    "coins = [500, 100, 50, 10, 5, 1]\n",
    "\n",
    "count = 0\n",
    "\n",
    "for coin in coins:\n",
    "    count += changes // coin\n",
    "    changes = changes % coin\n",
    "    \n",
    "print(count)"
   ]
  },
  {
   "cell_type": "markdown",
   "id": "b43f2939-f76c-40a1-976f-969354382d83",
   "metadata": {},
   "source": []
  }
 ],
 "metadata": {
  "kernelspec": {
   "display_name": "Python 3 (ipykernel)",
   "language": "python",
   "name": "python3"
  },
  "language_info": {
   "codemirror_mode": {
    "name": "ipython",
    "version": 3
   },
   "file_extension": ".py",
   "mimetype": "text/x-python",
   "name": "python",
   "nbconvert_exporter": "python",
   "pygments_lexer": "ipython3",
   "version": "3.8.6"
  }
 },
 "nbformat": 4,
 "nbformat_minor": 5
}
