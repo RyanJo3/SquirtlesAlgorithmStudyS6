{
 "cells": [
  {
   "cell_type": "markdown",
   "id": "e038dc74-07a7-4a78-90f5-1ead06b2975a",
   "metadata": {},
   "source": [
    "### 개인풀이  \n",
    "아이디어는 블로그 참고함  \n",
    "밑의 풀이는 n = 3일 경우 문제가 발생함 n = 3, m >= 7 일때도 제한조건을 위배하지 않도록 이동이 가능함"
   ]
  },
  {
   "cell_type": "code",
   "execution_count": null,
   "id": "a35e50f7-fa1c-4c63-b211-713493125024",
   "metadata": {},
   "outputs": [],
   "source": [
    "n, m = map(int, input().split(' '))\n",
    "\n",
    "if n == 1:\n",
    "    print(1)\n",
    "elif n == 2:\n",
    "    print(min((m+1)//2, 4))\n",
    "elif n == 3:\n",
    "    print(min(m, 4))\n",
    "else:\n",
    "    if m < 7:\n",
    "        print(min(m, 4))\n",
    "    else:\n",
    "        print(m-2)\n"
   ]
  },
  {
   "cell_type": "markdown",
   "id": "3a970374-6363-4ad6-a05d-f2419b83032b",
   "metadata": {},
   "source": [
    "### 수정한 풀이"
   ]
  },
  {
   "cell_type": "code",
   "execution_count": null,
   "id": "2bdb6f3a-c444-4f00-811e-ff01ddefc963",
   "metadata": {},
   "outputs": [],
   "source": [
    "n, m = map(int, input().split(' '))\n",
    "\n",
    "if n == 1:\n",
    "    print(1)\n",
    "elif n == 2:\n",
    "    print(min((m+1)//2, 4))\n",
    "else:\n",
    "    if m < 7:\n",
    "        print(min(m, 4))\n",
    "    else:\n",
    "        print(m-2)"
   ]
  }
 ],
 "metadata": {
  "kernelspec": {
   "display_name": "Python 3 (ipykernel)",
   "language": "python",
   "name": "python3"
  },
  "language_info": {
   "codemirror_mode": {
    "name": "ipython",
    "version": 3
   },
   "file_extension": ".py",
   "mimetype": "text/x-python",
   "name": "python",
   "nbconvert_exporter": "python",
   "pygments_lexer": "ipython3",
   "version": "3.8.6"
  }
 },
 "nbformat": 4,
 "nbformat_minor": 5
}
