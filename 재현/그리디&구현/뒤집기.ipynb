{
 "cells": [
  {
   "cell_type": "markdown",
   "id": "e3e36bb7-09d7-44bd-8340-d863735e39cf",
   "metadata": {},
   "source": [
    "### 개인풀이  \n",
    "  \n",
    "'1' 그룹의 수와 '0'그룹의 수를 각각 세어서 작은쪽을 리턴한다."
   ]
  },
  {
   "cell_type": "code",
   "execution_count": 1,
   "id": "324a587a-7402-4fa1-8a02-0b40ab9e6098",
   "metadata": {},
   "outputs": [
    {
     "name": "stdin",
     "output_type": "stream",
     "text": [
      " 0011000110101010100001110100\n"
     ]
    },
    {
     "name": "stdout",
     "output_type": "stream",
     "text": [
      "8\n"
     ]
    }
   ],
   "source": [
    "s = input()\n",
    "n = len(s)\n",
    "if s == '1'*n or s == '0'*n:\n",
    "    print(0)\n",
    "else:\n",
    "    num1 = 1 #시작지점의 숫자 그룹을 카운팅\n",
    "    num2 = 0 \n",
    "    start1 = s[0]\n",
    "        \n",
    "    for i in range(1, n):\n",
    "        if s[i] == start1 and s[i-1] == s[i]:\n",
    "            continue\n",
    "        elif s[i] == start1 and s[i-1] != s[i]:\n",
    "            num1 += 1\n",
    "        elif s[i] != start1 and s[i-1] == s[i]:\n",
    "            continue\n",
    "        else:\n",
    "            num2 += 1\n",
    "            \n",
    "print(min(num1, num2))"
   ]
  },
  {
   "cell_type": "markdown",
   "id": "9f2eb5b5-20fb-49cb-89b3-66cf5300b599",
   "metadata": {},
   "source": [
    "### 다른풀이"
   ]
  },
  {
   "cell_type": "code",
   "execution_count": null,
   "id": "8a82ea4b-6b11-4b17-8f96-5bea9716bd15",
   "metadata": {},
   "outputs": [],
   "source": [
    "s = input()\n",
    "cnt = 0\n",
    "prev = '?'\n",
    "\n",
    "for i in s:\n",
    "    if i != prev:\n",
    "        prev = i\n",
    "        cnt += 1\n",
    "        \n",
    "print(cnt//2)"
   ]
  }
 ],
 "metadata": {
  "kernelspec": {
   "display_name": "Python 3 (ipykernel)",
   "language": "python",
   "name": "python3"
  },
  "language_info": {
   "codemirror_mode": {
    "name": "ipython",
    "version": 3
   },
   "file_extension": ".py",
   "mimetype": "text/x-python",
   "name": "python",
   "nbconvert_exporter": "python",
   "pygments_lexer": "ipython3",
   "version": "3.8.6"
  }
 },
 "nbformat": 4,
 "nbformat_minor": 5
}
